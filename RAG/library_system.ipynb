{
 "cells": [
  {
   "cell_type": "markdown",
   "metadata": {},
   "source": [
    "## LIBRARY SYSTEM\n",
    "Features:\n",
    "- Able to search for books by its title, content, genre.\n",
    "- You can describe the characters or plot of the story, get the book.\n",
    "\n",
    "Steps:\n",
    "1. Import data from data files.\n",
    "2. Vectorise it.\n",
    "3. Create AI Agent for it.\n",
    "4. Use the query to get answers.\n",
    "\n",
    "Needed libraries:\n",
    "1. langchain-text-splitters \n",
    "2. langchain-community \n",
    "3. langgraph\n",
    "4. ebooklib\n",
    "5. pip\n",
    "6. ipykernel\n",
    "\n",
    "Other Notes:\n",
    "1. This is run inside conda environment."
   ]
  },
  {
   "cell_type": "code",
   "execution_count": null,
   "metadata": {},
   "outputs": [
    {
     "name": "stderr",
     "output_type": "stream",
     "text": [
      "USER_AGENT environment variable not set, consider setting it to identify your requests.\n"
     ]
    }
   ],
   "source": [
    "import os\n",
    "import bs4\n",
    "import ebooklib\n",
    "from ebooklib import epub\n",
    "from langchain import hub\n",
    "from langchain_openai import OpenAIEmbeddings\n",
    "from langchain_core.documents import Document\n",
    "from langgraph.graph import START, StateGraph\n",
    "from typing_extensions import List, TypedDict\n",
    "from langchain_core.prompts import PromptTemplate\n",
    "from langchain.chat_models import init_chat_model\n",
    "from langchain_core.vectorstores import InMemoryVectorStore\n",
    "from langchain_community.document_loaders import WebBaseLoader\n",
    "from langchain.document_loaders.pdf import PyPDFDirectoryLoader\n",
    "from langchain_text_splitters import RecursiveCharacterTextSplitter"
   ]
  },
  {
   "cell_type": "code",
   "execution_count": null,
   "metadata": {},
   "outputs": [],
   "source": [
    "# LLM SETUP\n",
    "os.environ[\"OPENAI_API_KEY\"] = os.environ.get(\"OPENAI_API_KEY\")\n",
    "llm = init_chat_model(\"o3-mini\", model_provider=\"openai\")"
   ]
  },
  {
   "cell_type": "markdown",
   "metadata": {},
   "source": [
    "### Load data (accepted PDF, Epub)"
   ]
  },
  {
   "cell_type": "code",
   "execution_count": 5,
   "metadata": {},
   "outputs": [
    {
     "data": {
      "text/plain": [
       "['Julia_Quinn_-_Bridgertons__2_The_Viscount_Who_Loved_Me.epub',\n",
       " 'Days at The Morisaki Bookshop 2.epub',\n",
       " 'Julia_Quinn_-_Bridgertons__4_Romancing_Mister_Bridgerton.epub',\n",
       " 'Ayesha_At_Last_-_Uzma_Jalaluddin.epub',\n",
       " 'Julia_Quinn_-_Bridgertons__1_The_Duke_and_I.epub',\n",
       " '3. Before Your Memory Fades.epub',\n",
       " 'Picking_Daisies_on_Sundays_-_Liana_Cincotti.epub',\n",
       " 'What You Are Looking For is in The Library 2.epub',\n",
       " '1. Before The Coffee Gets Cold.epub',\n",
       " 'Julia_Quinn_-_Bridgertons__5_To_Sir_Phillip_With_Love.epub',\n",
       " 'Welcome To The Hyunam-dong Bookshop - Hwang Bo Reum 2.epub',\n",
       " 'Secrets of Divine Love 2.epub',\n",
       " '09-Happily_Ever_After.pdf',\n",
       " 'Because_of_Miss_Bridgerton_-_Rokesbys_1_-_Julia_Quinn.epub',\n",
       " '2. Tales From The Cafe.epub',\n",
       " 'The Kamogawa Food Detectives 2.epub',\n",
       " '4. Before We Say Goodbye.epub',\n",
       " 'Twisted_Love___40_Twisted_01__41__-_Ana_Huang 2.epub',\n",
       " 'Julia_Quinn_-_Bridgertons__3_An_Offer_From_a_Gentleman.epub']"
      ]
     },
     "execution_count": 5,
     "metadata": {},
     "output_type": "execute_result"
    }
   ],
   "source": [
    "folder = \"../data/books/\"\n",
    "list_of_books = os.listdir(folder)\n",
    "list_of_books"
   ]
  },
  {
   "cell_type": "markdown",
   "metadata": {},
   "source": [
    "### Prompts"
   ]
  },
  {
   "cell_type": "code",
   "execution_count": null,
   "metadata": {},
   "outputs": [],
   "source": [
    "# customise our own LLM\n",
    "\n",
    "template = \"\"\"\n",
    "Answer the question based only on the following context:\n",
    "{context}\n",
    " - -\n",
    "Answer the question based on the above context: {question}\n",
    "\"\"\"\n",
    "custom_rag_prompt = PromptTemplate.from_template(template)\n",
    "\n",
    "# context is list of documents in which this LLM/Agent is about."
   ]
  }
 ],
 "metadata": {
  "kernelspec": {
   "display_name": "rag_system",
   "language": "python",
   "name": "python3"
  },
  "language_info": {
   "codemirror_mode": {
    "name": "ipython",
    "version": 3
   },
   "file_extension": ".py",
   "mimetype": "text/x-python",
   "name": "python",
   "nbconvert_exporter": "python",
   "pygments_lexer": "ipython3",
   "version": "3.12.9"
  }
 },
 "nbformat": 4,
 "nbformat_minor": 2
}
